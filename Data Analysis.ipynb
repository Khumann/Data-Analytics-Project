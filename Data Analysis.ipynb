{
 "cells": [
  {
   "cell_type": "code",
   "execution_count": 2,
   "id": "d77a5b4a",
   "metadata": {},
   "outputs": [
    {
     "name": "stdout",
     "output_type": "stream",
     "text": [
      "Column Names: Index(['index', 'InvoiceNo', 'StockCode', 'Description', 'Quantity',\n",
      "       'InvoiceDate', 'UnitPrice', 'CustomerID', 'Country'],\n",
      "      dtype='object')\n",
      "\n",
      "First Few Rows:\n",
      "   index InvoiceNo StockCode                          Description  Quantity  \\\n",
      "0      0    536365    85123A   WHITE HANGING HEART T-LIGHT HOLDER         6   \n",
      "1      1    536365     71053                  WHITE METAL LANTERN         6   \n",
      "2      2    536365    84406B       CREAM CUPID HEARTS COAT HANGER         8   \n",
      "3      3    536365    84029G  KNITTED UNION FLAG HOT WATER BOTTLE         6   \n",
      "4      4    536365    84029E       RED WOOLLY HOTTIE WHITE HEART.         6   \n",
      "\n",
      "      InvoiceDate  UnitPrice  CustomerID         Country  \n",
      "0  12/1/2010 8:26       2.55     17850.0  United Kingdom  \n",
      "1  12/1/2010 8:26       3.39     17850.0  United Kingdom  \n",
      "2  12/1/2010 8:26       2.75     17850.0  United Kingdom  \n",
      "3  12/1/2010 8:26       3.39     17850.0  United Kingdom  \n",
      "4  12/1/2010 8:26       3.39     17850.0  United Kingdom  \n"
     ]
    }
   ],
   "source": [
    "import pandas as pd\n",
    "import matplotlib.pyplot as plt\n",
    "import seaborn as sns\n",
    "\n",
    "\n",
    "# Define the file path\n",
    "file_path = r'C:\\Users\\ASUS\\Downloads\\dataset\\online_retail.csv'\n",
    "\n",
    "# Read the CSV file into a DataFrame\n",
    "df = pd.read_csv(file_path)\n",
    "\n",
    "# Print column names and the first few rows of the DataFrame\n",
    "print(\"Column Names:\", df.columns)\n",
    "print(\"\\nFirst Few Rows:\")\n",
    "print(df.head())\n",
    "\n",
    "\n"
   ]
  },
  {
   "cell_type": "code",
   "execution_count": 3,
   "id": "4843158e",
   "metadata": {
    "scrolled": true
   },
   "outputs": [
    {
     "name": "stdout",
     "output_type": "stream",
     "text": [
      "Top 10 Products by Total Quantity Sold:\n",
      "     StockCode                         Description  Quantity  UnitPrice\n",
      "1147     22197                SMALL POPCORN HOLDER     56450   1.034627\n",
      "2997     84077   WORLD WAR 2 GLIDERS ASSTD DESIGNS     53847   0.319908\n",
      "3515    85099B             JUMBO BAG RED RETROSPOT     47363   2.470264\n",
      "3536    85123A  WHITE HANGING HEART T-LIGHT HOLDER     38830   3.103238\n",
      "3305     84879       ASSORTED COLOUR BIRD ORNAMENT     36221   1.720885\n",
      "454      21212     PACK OF 72 RETROSPOT CAKE CASES     36039   0.755986\n",
      "1982     23084                  RABBIT NIGHT LIGHT     30646   2.339766\n",
      "1412     22492             MINI PAINT SET VINTAGE      26437   0.781564\n",
      "1530     22616          PACK OF 12 LONDON TISSUES      26315   0.446083\n",
      "966      21977  PACK OF 60 PINK PAISLEY CAKE CASES     24753   0.741217\n"
     ]
    }
   ],
   "source": [
    "# Group by StockCode and aggregate information\n",
    "#Grouping the DataFrame by 'StockCode'. This line groups the DataFrame df by the 'StockCode' column using the groupby() function. This creates separate groups for each unique value in the 'StockCode' column.\n",
    "product_info = df.groupby('StockCode').agg({\n",
    "    'Description': 'first',  # Take the first description (assuming it's consistent)\n",
    "    'Quantity': 'sum',       # Total quantity sold\n",
    "    'UnitPrice': 'mean'      # Average unit price\n",
    "}).reset_index()\n",
    "\n",
    "# Print top products based on total quantity sold\n",
    "top_products = product_info.sort_values(by='Quantity', ascending=False).head(10)\n",
    "print(\"Top 10 Products by Total Quantity Sold:\")\n",
    "print(top_products)\n",
    "\n",
    "\n",
    "\n",
    "#Description': 'first': Since the description of a product is assumed to be consistent within each group, we take the first description encountered in each group.\n",
    "#'Quantity': 'sum': We calculate the total quantity sold for each product by summing up the 'Quantity' values for all transactions associated with that product.\n",
    "#'UnitPrice': 'mean': We calculate the average unit price for each product by taking the mean (average) of all the 'UnitPrice' values for transactions associated with that product."
   ]
  },
  {
   "cell_type": "markdown",
   "id": "851851bb",
   "metadata": {},
   "source": [
    "\n",
    "# Top 10 Products by Total Quantity Sold:\n",
    "\n",
    "1. **Small Popcorn Holder (StockCode: 22197):**\n",
    "Total quantity sold: 56,450 units\n",
    "Average unit price: £1.03\n",
    "\n",
    "2. **World War 2 Gliders Asstd Designs (StockCode: 84077):**\n",
    "Total quantity sold: 53,847 units\n",
    "Average unit price: £0.32\n",
    "\n",
    "3. **Jumbo Bag Red Retrospot (StockCode: 85099B):**\n",
    "Total quantity sold: 47,363 units\n",
    "Average unit price: £2.47\n",
    "\n",
    "4. **White Hanging Heart T-Light Holder (StockCode: 85123A):**\n",
    "Total quantity sold: 38,830 units\n",
    "Average unit price: £3.10\n",
    "\n",
    "5. **Assorted Colour Bird Ornament (StockCode: 84879):**\n",
    "Total quantity sold: 36,221 units\n",
    "Average unit price: £1.72\n",
    "\n",
    "6. **Pack of 72 Retrospot Cake Cases (StockCode: 21212):**\n",
    "Total quantity sold: 36,039 units\n",
    "Average unit price: £0.76\n",
    "\n",
    "7. **Rabbit Night Light (StockCode: 23084):**\n",
    "Total quantity sold: 30,646 units\n",
    "Average unit price: £2.34\n",
    "\n",
    "8. **Mini Paint Set Vintage (StockCode: 22492):**\n",
    "Total quantity sold: 26,437 units\n",
    "Average unit price: £0.78\n",
    "\n",
    "9. **Pack of 12 London Tissues (StockCode: 22616):**\n",
    "Total quantity sold: 26,315 units\n",
    "Average unit price: £0.45\n",
    "\n",
    "10. **Pack of 60 Pink Paisley Cake Cases (StockCode: 21977):**\n",
    "Total quantity sold: 24,753 units\n",
    "Average unit price: £0.74\n"
   ]
  },
  {
   "cell_type": "code",
   "execution_count": 4,
   "id": "b9a1f559",
   "metadata": {},
   "outputs": [
    {
     "data": {
      "image/png": "[encoded data removed]",
      "text/plain": [
       "<Figure size 800x800 with 1 Axes>"
      ]
     },
     "metadata": {},
     "output_type": "display_data"
    }
   ],
   "source": [
    "# Define the product names and quantities\n",
    "products = ['Small Popcorn Holder', 'World War 2 Gliders', 'Jumbo Bag Red Retrospot', 'White Hanging Heart T-Light Holder',\n",
    "            'Assorted Colour Bird Ornament', 'Pack of 72 Retrospot Cake Cases', 'Rabbit Night Light', 'Mini Paint Set Vintage',\n",
    "            'Pack of 12 London Tissues', 'Pack of 60 Pink Paisley Cake Cases']\n",
    "quantities = [56450, 53847, 47363, 38830, 36221, 36039, 30646, 26437, 26315, 24753]\n",
    "\n",
    "# Defining colors for specific products\n",
    "colors = ['skyblue', 'orange', 'lightgreen', 'lightcoral', 'lightskyblue', 'gold', 'lightpink', 'lavender', 'lightgray', 'lightseagreen']\n",
    "\n",
    "# Creating a pie chart\n",
    "plt.figure(figsize=(8, 8))\n",
    "patches, texts, _ = plt.pie(quantities, labels=products, autopct='%1.1f%%', startangle=140, colors=colors, textprops={'color': 'black'})\n",
    "plt.title('Distribution of Top 10 Products by Total Quantity Sold')\n",
    "plt.axis('equal')  # Equal aspect ratio ensures that pie is drawn as a circle\n",
    "\n",
    "# Customize text labels with colors\n",
    "for text, color in zip(texts, colors):\n",
    "    text.set_color(color)\n",
    "\n",
    "plt.show()\n",
    "\n"
   ]
  },
  {
   "cell_type": "code",
   "execution_count": 5,
   "id": "5a4b9f01",
   "metadata": {},
   "outputs": [
    {
     "name": "stdout",
     "output_type": "stream",
     "text": [
      "<class 'pandas.core.frame.DataFrame'>\n",
      "RangeIndex: 541909 entries, 0 to 541908\n",
      "Data columns (total 9 columns):\n",
      " #   Column       Non-Null Count   Dtype  \n",
      "---  ------       --------------   -----  \n",
      " 0   index        541909 non-null  int64  \n",
      " 1   InvoiceNo    541909 non-null  object \n",
      " 2   StockCode    541909 non-null  object \n",
      " 3   Description  540455 non-null  object \n",
      " 4   Quantity     541909 non-null  int64  \n",
      " 5   InvoiceDate  541909 non-null  object \n",
      " 6   UnitPrice    541909 non-null  float64\n",
      " 7   CustomerID   406829 non-null  float64\n",
      " 8   Country      541909 non-null  object \n",
      "dtypes: float64(2), int64(2), object(5)\n",
      "memory usage: 37.2+ MB\n"
     ]
    }
   ],
   "source": [
    "df.info()"
   ]
  },
  {
   "cell_type": "markdown",
   "id": "9cc17225",
   "metadata": {},
   "source": [
    "## Converting the 'InvoiceDate' column to datetime format using pd.to_datetime() is essential for several reasons:\n",
    "\n",
    "**Ease of Data Manipulation: Converting 'InvoiceDate' to datetime format allows you to perform various operations and calculations directly on the dates. For example, you can easily extract the year, month, day, or hour from the datetime objects, which is crucial for time series analysis or grouping data by time intervals.**\n",
    "\n",
    "**Date-Based Filtering: With datetime format, you can filter the dataset based on specific date ranges more efficiently. This is helpful when you want to analyze sales data for a particular time period or compare sales performance between different months or years.**\n",
    "\n",
    "**Visualization: Plotting time series data becomes more intuitive with datetime objects. You can create meaningful visualizations such as line plots or histograms with time on the x-axis, which helps in identifying trends, seasonality, or anomalies in the data.**\n",
    "\n",
    "**Data Aggregation: Datetime format allows for easy aggregation of data based on time intervals. You can group sales data by day, week, month, etc., and calculate metrics like total sales volume or revenue for each interval.**\n",
    "\n"
   ]
  },
  {
   "cell_type": "code",
   "execution_count": 9,
   "id": "90a36349",
   "metadata": {},
   "outputs": [],
   "source": [
    "df['InvoiceDate'] = pd.to_datetime(df['InvoiceDate'])"
   ]
  },
  {
   "cell_type": "markdown",
   "id": "ca58b6c6",
   "metadata": {},
   "source": [
    "#Visualizing Time Series Trends:\n",
    "#Plotting a time series of sales volume over time allows you to see the overall trend in sales and any patterns or fluctuations. This visualization can help you identify:\n",
    "#Seasonal patterns: recurring patterns that happen at consistent intervals, such as higher sales during holiday seasons\n",
    "\n",
    "\n",
    "plt.figure(figsize=(10, 6))\n",
    "plt.plot(df['InvoiceDate'], df['Quantity'], marker='o', linestyle='-')\n",
    "plt.title('Sales Volume Over Time')\n",
    "plt.xlabel('Date')\n",
    "plt.ylabel('Quantity Sold')\n",
    "plt.grid(True)\n",
    "plt.show()\n"
   ]
  },
  {
   "cell_type": "code",
   "execution_count": 11,
   "id": "6cd86a05",
   "metadata": {},
   "outputs": [
    {
     "data": {
      "image/png": "[encoded data removed]",
      "text/plain": [
       "<Figure size 1000x600 with 1 Axes>"
      ]
     },
     "metadata": {},
     "output_type": "display_data"
    }
   ],
   "source": [
    "plt.figure(figsize=(10, 6))\n",
    "plt.plot(df['InvoiceDate'], df['Quantity'], marker='o', linestyle='-')\n",
    "plt.title('Sales Volume Over Time')\n",
    "plt.xlabel('Date')\n",
    "plt.ylabel('Quantity Sold')\n",
    "plt.grid(True)\n",
    "plt.show()\n",
    "\n",
    "\n",
    "#x-axis represents the dates on which sales transactions occurred.\n",
    "#Each point on the x-axis corresponds to a specific date, with the dates increasing from left to right.\n",
    "\n",
    "# the y-axis shows +80,000, it means that 80,000 units of products were sold in that particular transaction.\n",
    "# the y-axis shows -80,000, it means that 80,000 units of products were returned or canceled in that particular transaction\n"
   ]
  },
  {
   "cell_type": "code",
   "execution_count": 15,
   "id": "df7b915b",
   "metadata": {},
   "outputs": [
    {
     "data": {
      "text/plain": [
       "Text(0, 0.5, 'Average Quantity Sold')"
      ]
     },
     "execution_count": 15,
     "metadata": {},
     "output_type": "execute_result"
    },
    {
     "data": {
      "image/png": "[encoded data removed]",
      "text/plain": [
       "<Figure size 1000x600 with 1 Axes>"
      ]
     },
     "metadata": {},
     "output_type": "display_data"
    }
   ],
   "source": [
    "#Aggregating by Month\n",
    "# Calculate average monthly sales volume\n",
    "average_monthly_sales = monthly_sales.groupby(monthly_sales.index.month).mean()\n",
    "\n",
    "\n",
    "\n",
    "plt.figure(figsize=(10, 6))\n",
    "\n",
    "# Plot average monthly sales volume\n",
    "plt.subplot(2, 1, 1)\n",
    "average_monthly_sales.plot(kind='bar', color='lightgreen')\n",
    "plt.title('Average Monthly Sales Volume')\n",
    "plt.xlabel('Month')\n",
    "plt.ylabel('Average Quantity Sold')\n"
   ]
  },
  {
   "cell_type": "code",
   "execution_count": 16,
   "id": "fb66c61d",
   "metadata": {},
   "outputs": [
    {
     "name": "stdout",
     "output_type": "stream",
     "text": [
      "The month with the highest average quantity sold is 11, with approximately 740286 units.\n"
     ]
    }
   ],
   "source": [
    "\n",
    "#This code will calculate the average quantity sold for each month and then identify the month with the highest average quantity sold, along with the corresponding value.\n",
    "# Calculate average monthly sales volume\n",
    "average_monthly_sales = monthly_sales.groupby(monthly_sales.index.month).mean()\n",
    "\n",
    "# Find the month with the highest average quantity sold\n",
    "#idxmax() function returns the index (or label) corresponding to the maximum value in a Series or DataFrame. Similarly, the max() function returns the maximum value itself.\n",
    "highest_average_month = average_monthly_sales.idxmax()\n",
    "highest_average_quantity = average_monthly_sales.max()\n",
    "\n",
    "print(f\"The month with the highest average quantity sold is {highest_average_month}, with approximately {highest_average_quantity:.0f} units.\")\n"
   ]
  },
  {
   "cell_type": "code",
   "execution_count": 31,
   "id": "cbd69cdc",
   "metadata": {},
   "outputs": [
    {
     "name": "stdout",
     "output_type": "stream",
     "text": [
      "              index       Quantity                    InvoiceDate  \\\n",
      "count  541909.00000  541909.000000                         541909   \n",
      "mean   270954.00000       9.552250  2011-07-04 13:34:57.156386048   \n",
      "min         0.00000  -80995.000000            2010-12-01 08:26:00   \n",
      "25%    135477.00000       1.000000            2011-03-28 11:34:00   \n",
      "50%    270954.00000       3.000000            2011-07-19 17:17:00   \n",
      "75%    406431.00000      10.000000            2011-10-19 11:27:00   \n",
      "max    541908.00000   80995.000000            2011-12-09 12:50:00   \n",
      "std    156435.79785     218.081158                            NaN   \n",
      "\n",
      "           UnitPrice     CustomerID  \n",
      "count  541909.000000  406829.000000  \n",
      "mean        4.611114   15287.690570  \n",
      "min    -11062.060000   12346.000000  \n",
      "25%         1.250000   13953.000000  \n",
      "50%         2.080000   15152.000000  \n",
      "75%         4.130000   16791.000000  \n",
      "max     38970.000000   18287.000000  \n",
      "std        96.759853    1713.600303  \n"
     ]
    }
   ],
   "source": [
    "# Descriptive statistics for numerical variables\n",
    "print(df.describe())\n"
   ]
  },
  {
   "cell_type": "code",
   "execution_count": 21,
   "id": "5f9706dc",
   "metadata": {},
   "outputs": [],
   "source": [
    "\n"
   ]
  },
  {
   "cell_type": "markdown",
   "id": "fe372a2c",
   "metadata": {},
   "source": [
    "Count: Indicates the number of non-null values for each variable.\n",
    "Mean: Represents the average value of each variable.\n",
    "Min: Denotes the minimum value observed for each variable.\n",
    "25% (1st Quartile): Represents the value below which 25% of the data falls.\n",
    "50% (Median or 2nd Quartile): Represents the value below which 50% of the data falls (also known as the median).\n",
    "75% (3rd Quartile): Represents the value below which 75% of the data falls.\n",
    "Max: Denotes the maximum value observed for each variable.\n",
    "Std (Standard Deviation): Represents the measure of dispersion or variability in the data.\n",
    "From this summary:\n",
    "\n",
    "Quantity: The average quantity sold per transaction is approximately 9.55 units, with a minimum of -80995 units and a maximum of 80995 units. There seem to be some negative values, which might indicate returns or cancellations.\n",
    "UnitPrice: The average unit price of items sold is approximately 4.61, with a minimum of -11062.06 and a maximum of 38970. These extreme values may require further investigation.\n",
    "CustomerID: There are approximately 406,829 unique customer IDs in the dataset. The average customer ID is approximately 15287.69, with a minimum of 12346 and a maximum of 18287.\n",
    "InvoiceDate: The dates range from December 1, 2010, to December 9, 2011. The most frequent date is around July 4, 2011."
   ]
  },
  {
   "cell_type": "code",
   "execution_count": 32,
   "id": "c97f052c",
   "metadata": {},
   "outputs": [
    {
     "name": "stdout",
     "output_type": "stream",
     "text": [
      "index               0\n",
      "InvoiceNo           0\n",
      "StockCode           0\n",
      "Description      1454\n",
      "Quantity            0\n",
      "InvoiceDate         0\n",
      "UnitPrice           0\n",
      "CustomerID     135080\n",
      "Country             0\n",
      "dtype: int64\n"
     ]
    }
   ],
   "source": [
    "# Check for missing values\n",
    "missing_values = df.isnull().sum()\n",
    "print(missing_values)\n",
    "\n"
   ]
  },
  {
   "cell_type": "code",
   "execution_count": 33,
   "id": "7443bdf0",
   "metadata": {},
   "outputs": [
    {
     "name": "stdout",
     "output_type": "stream",
     "text": [
      "      index InvoiceNo StockCode Description  Quantity         InvoiceDate  \\\n",
      "622     622    536414     22139         NaN        56 2010-12-01 11:52:00   \n",
      "1970   1970    536545     21134         NaN         1 2010-12-01 14:32:00   \n",
      "1971   1971    536546     22145         NaN         1 2010-12-01 14:33:00   \n",
      "1972   1972    536547     37509         NaN         1 2010-12-01 14:33:00   \n",
      "1987   1987    536549    85226A         NaN         1 2010-12-01 14:34:00   \n",
      "\n",
      "      UnitPrice  CustomerID         Country  \n",
      "622         0.0         NaN  United Kingdom  \n",
      "1970        0.0         NaN  United Kingdom  \n",
      "1971        0.0         NaN  United Kingdom  \n",
      "1972        0.0         NaN  United Kingdom  \n",
      "1987        0.0         NaN  United Kingdom  \n"
     ]
    }
   ],
   "source": [
    "# Display rows with missing descriptions\n",
    "missing_description_rows = df[df['Description'].isnull()]\n",
    "print(missing_description_rows.head())\n",
    "\n"
   ]
  },
  {
   "cell_type": "code",
   "execution_count": 34,
   "id": "b67132a3",
   "metadata": {},
   "outputs": [
    {
     "name": "stdout",
     "output_type": "stream",
     "text": [
      "index               0\n",
      "InvoiceNo           0\n",
      "StockCode           0\n",
      "Description         0\n",
      "Quantity            0\n",
      "InvoiceDate         0\n",
      "UnitPrice           0\n",
      "CustomerID     133626\n",
      "Country             0\n",
      "dtype: int64\n"
     ]
    }
   ],
   "source": [
    "#appears that the rows with missing descriptions also have a unit price of 0.0 and a missing customer ID. These rows might represent cancelled or refunded transactions, where the items were returned and therefore do not have a description.\n",
    "# Drop rows with missing descriptions\n",
    "df_cleaned = df.dropna(subset=['Description'])\n",
    "\n",
    "# Confirm that missing description rows are dropped\n",
    "print(df_cleaned.isnull().sum())\n"
   ]
  },
  {
   "cell_type": "code",
   "execution_count": 35,
   "id": "a0cbebc0",
   "metadata": {},
   "outputs": [
    {
     "name": "stdout",
     "output_type": "stream",
     "text": [
      "      index InvoiceNo StockCode                      Description  Quantity  \\\n",
      "622     622    536414     22139                              NaN        56   \n",
      "1443   1443    536544     21773  DECORATIVE ROSE BATHROOM BOTTLE         1   \n",
      "1444   1444    536544     21774  DECORATIVE CATS BATHROOM BOTTLE         2   \n",
      "1445   1445    536544     21786               POLKADOT RAIN HAT          4   \n",
      "1446   1446    536544     21787            RAIN PONCHO RETROSPOT         2   \n",
      "\n",
      "             InvoiceDate  UnitPrice  CustomerID         Country  \n",
      "622  2010-12-01 11:52:00       0.00         NaN  United Kingdom  \n",
      "1443 2010-12-01 14:32:00       2.51         NaN  United Kingdom  \n",
      "1444 2010-12-01 14:32:00       2.51         NaN  United Kingdom  \n",
      "1445 2010-12-01 14:32:00       0.85         NaN  United Kingdom  \n",
      "1446 2010-12-01 14:32:00       1.66         NaN  United Kingdom  \n"
     ]
    }
   ],
   "source": [
    "# Display rows with missing CustomerID\n",
    "missing_customerid_rows = df[df['CustomerID'].isnull()]\n",
    "print(missing_customerid_rows.head())\n"
   ]
  },
  {
   "cell_type": "code",
   "execution_count": 41,
   "id": "29dcb16a",
   "metadata": {},
   "outputs": [
    {
     "name": "stdout",
     "output_type": "stream",
     "text": [
      "Shape of DataFrame before dropping missing values: (541909, 9)\n",
      "Shape of DataFrame after dropping missing values: (406829, 9)\n"
     ]
    }
   ],
   "source": [
    "# Drop rows with missing values in the CustomerID column\n",
    "df_cleaned = df.dropna(subset=['CustomerID'])\n",
    "\n",
    "# Check the shape of the DataFrame before and after dropping missing values\n",
    "print(\"Shape of DataFrame before dropping missing values:\", df.shape)\n",
    "print(\"Shape of DataFrame after dropping missing values:\", df_cleaned.shape)\n",
    "\n",
    "\n",
    "\n"
   ]
  },
  {
   "cell_type": "code",
   "execution_count": 44,
   "id": "7d80bf0f",
   "metadata": {},
   "outputs": [
    {
     "name": "stdout",
     "output_type": "stream",
     "text": [
      "Summary Statistics for Sales Volumes by StockCode:\n",
      "            count       mean         std     min  25%   50%   75%     max\n",
      "StockCode                                                                \n",
      "10002        49.0  16.795918   25.526114     1.0  4.0  12.0  12.0   120.0\n",
      "10080        21.0  13.857143   11.363475     1.0  4.0  12.0  24.0    48.0\n",
      "10120        30.0   6.433333    7.699903     1.0  1.0   5.0   7.5    30.0\n",
      "10123C        3.0   1.666667    1.154701     1.0  1.0   1.0   2.0     3.0\n",
      "10124A        5.0   3.200000    1.303840     1.0  3.0   4.0   4.0     4.0\n",
      "...           ...        ...         ...     ...  ...   ...   ...     ...\n",
      "D            77.0 -15.506494   86.557043  -720.0 -1.0  -1.0  -1.0    -1.0\n",
      "DOT          16.0   1.000000    0.000000     1.0  1.0   1.0   1.0     1.0\n",
      "M           465.0   6.847312  133.380404 -1350.0 -1.0   1.0   2.0  1600.0\n",
      "PADS          4.0   1.000000    0.000000     1.0  1.0   1.0   1.0     1.0\n",
      "POST       1196.0   2.510033    2.332036    -4.0  1.0   2.0   3.0    21.0\n",
      "\n",
      "[3684 rows x 8 columns]\n",
      "\n",
      "Summary Statistics for Sales Volumes by Country:\n",
      "                         count       mean         std      min    25%   50%  \\\n",
      "Country                                                                       \n",
      "Australia               1259.0  66.444003   97.686932   -120.0   6.00  24.0   \n",
      "Austria                  401.0  12.037406   21.745485    -48.0   6.00   9.0   \n",
      "Bahrain                   17.0  15.294118   24.959379      2.0   6.00   6.0   \n",
      "Belgium                 2069.0  11.189947   13.601441    -12.0   4.00  10.0   \n",
      "Brazil                    32.0  11.125000    8.476723      2.0   3.00  10.0   \n",
      "Canada                   151.0  18.298013   46.682587      1.0   6.00  12.0   \n",
      "Channel Islands          758.0  12.505277   22.570877     -2.0   4.00  10.0   \n",
      "Cyprus                   622.0  10.155949   23.263590    -33.0   2.00   5.0   \n",
      "Czech Republic            30.0  19.733333   22.813990    -24.0  12.00  24.0   \n",
      "Denmark                  389.0  21.048843   27.402502    -25.0  12.00  12.0   \n",
      "EIRE                    7485.0  18.213627   42.025703   -288.0   4.00  10.0   \n",
      "European Community        61.0   8.147541    6.546847     -2.0   3.00   6.0   \n",
      "Finland                  695.0  15.346763   21.001421    -27.0   6.00  10.0   \n",
      "France                  8491.0  12.936992   21.459204   -250.0   5.00  10.0   \n",
      "Germany                 9495.0  12.369458   17.865719   -288.0   5.00  10.0   \n",
      "Greece                   146.0  10.657534    7.724067     -1.0   5.25  10.0   \n",
      "Iceland                  182.0  13.505495   18.856172      2.0   6.00  12.0   \n",
      "Israel                   250.0  15.960000   16.730512    -32.0   4.00  12.0   \n",
      "Italy                    803.0   9.961395   13.579809    -12.0   4.00   6.0   \n",
      "Japan                    358.0  70.441341  177.191079   -624.0   4.00  36.0   \n",
      "Lebanon                   45.0   8.577778    4.314294      2.0   6.00   8.0   \n",
      "Lithuania                 35.0  18.628571   10.137542      6.0  12.00  16.0   \n",
      "Malta                    127.0   7.433071    8.069726     -4.0   3.00   6.0   \n",
      "Netherlands             2371.0  84.406580  111.369151   -480.0  16.00  72.0   \n",
      "Norway                  1086.0  17.722836   22.644876    -12.0   6.00  12.0   \n",
      "Poland                   341.0  10.712610   10.174628     -6.0   4.00  10.0   \n",
      "Portugal                1480.0  10.840541   11.914967    -12.0   3.75  10.0   \n",
      "RSA                       58.0   6.068966    3.329096      1.0   3.00   6.0   \n",
      "Saudi Arabia              10.0   7.500000    5.720334     -5.0   6.00   9.0   \n",
      "Singapore                229.0  22.855895   27.742886     -1.0   8.00  12.0   \n",
      "Spain                   2533.0  10.589814   24.130396   -288.0   3.00   6.0   \n",
      "Sweden                   462.0  77.136364  128.891540   -240.0   8.00  20.0   \n",
      "Switzerland             1877.0  15.864678   19.293265   -120.0   6.00  12.0   \n",
      "USA                      291.0   3.553265   16.450545    -36.0 -10.00   5.0   \n",
      "United Arab Emirates      68.0  14.441176   12.474909      1.0   6.00  12.0   \n",
      "United Kingdom        361878.0  11.077029  263.129266 -80995.0   2.00   4.0   \n",
      "Unspecified              244.0   7.331967    8.895856      1.0   1.00   2.0   \n",
      "\n",
      "                        75%      max  \n",
      "Country                               \n",
      "Australia              96.0   1152.0  \n",
      "Austria                12.0    288.0  \n",
      "Bahrain                 8.0     96.0  \n",
      "Belgium                12.0    272.0  \n",
      "Brazil                 18.0     24.0  \n",
      "Canada                 20.0    504.0  \n",
      "Channel Islands        12.0    407.0  \n",
      "Cyprus                 12.0    288.0  \n",
      "Czech Republic         24.0     72.0  \n",
      "Denmark                24.0    256.0  \n",
      "EIRE                   12.0   1440.0  \n",
      "European Community     12.0     24.0  \n",
      "Finland                12.0    144.0  \n",
      "France                 12.0    912.0  \n",
      "Germany                12.0    600.0  \n",
      "Greece                 12.0     48.0  \n",
      "Iceland                12.0    240.0  \n",
      "Israel                 24.0    100.0  \n",
      "Italy                  12.0    200.0  \n",
      "Japan                  72.0   2040.0  \n",
      "Lebanon                12.0     24.0  \n",
      "Lithuania              24.0     48.0  \n",
      "Malta                  12.0     48.0  \n",
      "Netherlands           100.0   2400.0  \n",
      "Norway                 24.0    240.0  \n",
      "Poland                 12.0     72.0  \n",
      "Portugal               12.0    120.0  \n",
      "RSA                     9.5     12.0  \n",
      "Saudi Arabia           12.0     12.0  \n",
      "Singapore              24.0    288.0  \n",
      "Spain                  12.0    360.0  \n",
      "Sweden                 96.0    768.0  \n",
      "Switzerland            24.0    288.0  \n",
      "USA                    12.0     72.0  \n",
      "United Arab Emirates   12.0     72.0  \n",
      "United Kingdom         12.0  80995.0  \n",
      "Unspecified            12.0     36.0  \n",
      "\n",
      "Frequency of Sales Volumes by StockCode:\n",
      "StockCode\n",
      "85123A    2077\n",
      "22423     1905\n",
      "85099B    1662\n",
      "84879     1418\n",
      "47566     1416\n",
      "          ... \n",
      "84620        1\n",
      "90038B       1\n",
      "84551        1\n",
      "84614A       1\n",
      "20957        1\n",
      "Name: count, Length: 3684, dtype: int64\n",
      "\n",
      "Frequency of Sales Volumes by Country:\n",
      "Country\n",
      "United Kingdom          361878\n",
      "Germany                   9495\n",
      "France                    8491\n",
      "EIRE                      7485\n",
      "Spain                     2533\n",
      "Netherlands               2371\n",
      "Belgium                   2069\n",
      "Switzerland               1877\n",
      "Portugal                  1480\n",
      "Australia                 1259\n",
      "Norway                    1086\n",
      "Italy                      803\n",
      "Channel Islands            758\n",
      "Finland                    695\n",
      "Cyprus                     622\n",
      "Sweden                     462\n",
      "Austria                    401\n",
      "Denmark                    389\n",
      "Japan                      358\n",
      "Poland                     341\n",
      "USA                        291\n",
      "Israel                     250\n",
      "Unspecified                244\n",
      "Singapore                  229\n",
      "Iceland                    182\n",
      "Canada                     151\n",
      "Greece                     146\n",
      "Malta                      127\n",
      "United Arab Emirates        68\n",
      "European Community          61\n",
      "RSA                         58\n",
      "Lebanon                     45\n",
      "Lithuania                   35\n",
      "Brazil                      32\n",
      "Czech Republic              30\n",
      "Bahrain                     17\n",
      "Saudi Arabia                10\n",
      "Name: count, dtype: int64\n"
     ]
    }
   ],
   "source": [
    "# Summary Statistics\n",
    "# Calculate summary statistics for sales volumes by StockCode\n",
    "stockcode_stats = df_cleaned.groupby('StockCode')['Quantity'].describe()\n",
    "\n",
    "# Calculate summary statistics for sales volumes by Country\n",
    "country_stats = df_cleaned.groupby('Country')['Quantity'].describe()\n",
    "\n",
    "# Distribution Analysis\n",
    "# Calculate frequency of sales volumes by StockCode\n",
    "stockcode_frequency = df_cleaned['StockCode'].value_counts()\n",
    "\n",
    "# Calculate frequency of sales volumes by Country\n",
    "country_frequency = df_cleaned['Country'].value_counts()\n",
    "\n",
    "# Print summary statistics\n",
    "print(\"Summary Statistics for Sales Volumes by StockCode:\")\n",
    "print(stockcode_stats)\n",
    "\n",
    "print(\"\\nSummary Statistics for Sales Volumes by Country:\")\n",
    "print(country_stats)\n",
    "\n",
    "# Print frequency of sales volumes\n",
    "print(\"\\nFrequency of Sales Volumes by StockCode:\")\n",
    "print(stockcode_frequency)\n",
    "\n",
    "print(\"\\nFrequency of Sales Volumes by Country:\")\n",
    "print(country_frequency)\n",
    "\n"
   ]
  },
  {
   "cell_type": "code",
   "execution_count": 45,
   "id": "3882549d",
   "metadata": {},
   "outputs": [
    {
     "name": "stdout",
     "output_type": "stream",
     "text": [
      "Summary Statistics for Sales Volumes by StockCode:\n",
      "              count       mean        std   min    25%   50%   75%    max\n",
      "StockCode                                                                \n",
      "10002          73.0  14.205479  29.549374  -3.0   1.00   5.0  12.0  180.0\n",
      "10080          24.0  20.625000  33.578995   1.0  10.00  12.0  24.0  170.0\n",
      "10120          30.0   6.433333   7.699903   1.0   1.00   5.0   7.5   30.0\n",
      "10123C          4.0  -3.250000   9.878428 -18.0  -3.75   1.0   1.5    3.0\n",
      "10123G          1.0 -38.000000        NaN -38.0 -38.00 -38.0 -38.0  -38.0\n",
      "...             ...        ...        ...   ...    ...   ...   ...    ...\n",
      "gift_0001_20   10.0   2.000000   2.828427   1.0   1.00   1.0   1.0   10.0\n",
      "gift_0001_30    8.0   4.625000  10.253048   1.0   1.00   1.0   1.0   30.0\n",
      "gift_0001_40    3.0   1.000000   0.000000   1.0   1.00   1.0   1.0    1.0\n",
      "gift_0001_50    4.0   1.000000   0.000000   1.0   1.00   1.0   1.0    1.0\n",
      "m               1.0   1.000000        NaN   1.0   1.00   1.0   1.0    1.0\n",
      "\n",
      "[4070 rows x 8 columns]\n",
      "\n",
      "Summary Statistics for Sales Volumes by Country:\n",
      "                         count       mean         std      min    25%   50%  \\\n",
      "Country                                                                       \n",
      "Australia               1259.0  66.444003   97.686932   -120.0   6.00  24.0   \n",
      "Austria                  401.0  12.037406   21.745485    -48.0   6.00   9.0   \n",
      "Bahrain                   19.0  13.684211   30.016759    -54.0   5.00   6.0   \n",
      "Belgium                 2069.0  11.189947   13.601441    -12.0   4.00  10.0   \n",
      "Brazil                    32.0  11.125000    8.476723      2.0   3.00  10.0   \n",
      "Canada                   151.0  18.298013   46.682587      1.0   6.00  12.0   \n",
      "Channel Islands          758.0  12.505277   22.570877     -2.0   4.00  10.0   \n",
      "Cyprus                   622.0  10.155949   23.263590    -33.0   2.00   5.0   \n",
      "Czech Republic            30.0  19.733333   22.813990    -24.0  12.00  24.0   \n",
      "Denmark                  389.0  21.048843   27.402502    -25.0  12.00  12.0   \n",
      "EIRE                    8196.0  17.403245   40.368435   -288.0   4.00  10.0   \n",
      "European Community        61.0   8.147541    6.546847     -2.0   3.00   6.0   \n",
      "Finland                  695.0  15.346763   21.001421    -27.0   6.00  10.0   \n",
      "France                  8557.0  12.911067   21.425031   -250.0   5.00  10.0   \n",
      "Germany                 9495.0  12.369458   17.865719   -288.0   5.00  10.0   \n",
      "Greece                   146.0  10.657534    7.724067     -1.0   5.25  10.0   \n",
      "Hong Kong                288.0  16.559028   16.936343     -1.0   6.00  11.0   \n",
      "Iceland                  182.0  13.505495   18.856172      2.0   6.00  12.0   \n",
      "Israel                   297.0  14.656566   16.026474    -32.0   4.00  11.0   \n",
      "Italy                    803.0   9.961395   13.579809    -12.0   4.00   6.0   \n",
      "Japan                    358.0  70.441341  177.191079   -624.0   4.00  36.0   \n",
      "Lebanon                   45.0   8.577778    4.314294      2.0   6.00   8.0   \n",
      "Lithuania                 35.0  18.628571   10.137542      6.0  12.00  16.0   \n",
      "Malta                    127.0   7.433071    8.069726     -4.0   3.00   6.0   \n",
      "Netherlands             2371.0  84.406580  111.369151   -480.0  16.00  72.0   \n",
      "Norway                  1086.0  17.722836   22.644876    -12.0   6.00  12.0   \n",
      "Poland                   341.0  10.712610   10.174628     -6.0   4.00  10.0   \n",
      "Portugal                1519.0  10.651745   11.823938    -12.0   3.00   8.0   \n",
      "RSA                       58.0   6.068966    3.329096      1.0   3.00   6.0   \n",
      "Saudi Arabia              10.0   7.500000    5.720334     -5.0   6.00   9.0   \n",
      "Singapore                229.0  22.855895   27.742886     -1.0   8.00  12.0   \n",
      "Spain                   2533.0  10.589814   24.130396   -288.0   3.00   6.0   \n",
      "Sweden                   462.0  77.136364  128.891540   -240.0   8.00  20.0   \n",
      "Switzerland             2002.0  15.147353   18.956901   -120.0   6.00  12.0   \n",
      "USA                      291.0   3.553265   16.450545    -36.0 -10.00   5.0   \n",
      "United Arab Emirates      68.0  14.441176   12.474909      1.0   6.00  12.0   \n",
      "United Kingdom        495478.0   8.605486  227.588756 -80995.0   1.00   3.0   \n",
      "Unspecified              446.0   7.399103    8.765735      1.0   1.00   3.0   \n",
      "\n",
      "                        75%      max  \n",
      "Country                               \n",
      "Australia              96.0   1152.0  \n",
      "Austria                12.0    288.0  \n",
      "Bahrain                10.0     96.0  \n",
      "Belgium                12.0    272.0  \n",
      "Brazil                 18.0     24.0  \n",
      "Canada                 20.0    504.0  \n",
      "Channel Islands        12.0    407.0  \n",
      "Cyprus                 12.0    288.0  \n",
      "Czech Republic         24.0     72.0  \n",
      "Denmark                24.0    256.0  \n",
      "EIRE                   12.0   1440.0  \n",
      "European Community     12.0     24.0  \n",
      "Finland                12.0    144.0  \n",
      "France                 12.0    912.0  \n",
      "Germany                12.0    600.0  \n",
      "Greece                 12.0     48.0  \n",
      "Hong Kong              24.0    144.0  \n",
      "Iceland                12.0    240.0  \n",
      "Israel                 24.0    100.0  \n",
      "Italy                  12.0    200.0  \n",
      "Japan                  72.0   2040.0  \n",
      "Lebanon                12.0     24.0  \n",
      "Lithuania              24.0     48.0  \n",
      "Malta                  12.0     48.0  \n",
      "Netherlands           100.0   2400.0  \n",
      "Norway                 24.0    240.0  \n",
      "Poland                 12.0     72.0  \n",
      "Portugal               12.0    120.0  \n",
      "RSA                     9.5     12.0  \n",
      "Saudi Arabia           12.0     12.0  \n",
      "Singapore              24.0    288.0  \n",
      "Spain                  12.0    360.0  \n",
      "Sweden                 96.0    768.0  \n",
      "Switzerland            20.0    288.0  \n",
      "USA                    12.0     72.0  \n",
      "United Arab Emirates   12.0     72.0  \n",
      "United Kingdom         10.0  80995.0  \n",
      "Unspecified            12.0     48.0  \n"
     ]
    }
   ],
   "source": [
    "\n",
    "# Group by StockCode and calculate summary statistics\n",
    "summary_by_stockcode = df.groupby('StockCode')['Quantity'].describe()\n",
    "\n",
    "# Group by Country and calculate summary statistics\n",
    "summary_by_country = df.groupby('Country')['Quantity'].describe()\n",
    "\n",
    "# Display the summary statistics\n",
    "print(\"Summary Statistics for Sales Volumes by StockCode:\")\n",
    "print(summary_by_stockcode)\n",
    "\n",
    "print(\"\\nSummary Statistics for Sales Volumes by Country:\")\n",
    "print(summary_by_country)\n"
   ]
  },
  {
   "cell_type": "code",
   "execution_count": 46,
   "id": "b3b42326",
   "metadata": {},
   "outputs": [
    {
     "name": "stdout",
     "output_type": "stream",
     "text": [
      "Outliers in Sales Volumes by StockCode:\n",
      "               count       mean        std   min    25%   50%   75%     max\n",
      "StockCode                                                                  \n",
      "10002           73.0  14.205479  29.549374  -3.0   1.00   5.0  12.0   180.0\n",
      "10080           24.0  20.625000  33.578995   1.0  10.00  12.0  24.0   170.0\n",
      "10120           30.0   6.433333   7.699903   1.0   1.00   5.0   7.5    30.0\n",
      "10123C           4.0  -3.250000   9.878428 -18.0  -3.75   1.0   1.5     3.0\n",
      "10124A           5.0   3.200000   1.303840   1.0   3.00   4.0   4.0     4.0\n",
      "...              ...        ...        ...   ...    ...   ...   ...     ...\n",
      "POST          1256.0   5.058121  47.440218  -4.0   1.00   2.0   3.0  1000.0\n",
      "S               63.0  -0.936508   0.353463  -1.0  -1.00  -1.0  -1.0     1.0\n",
      "gift_0001_10     9.0   4.333333   9.630680   1.0   1.00   1.0   1.0    30.0\n",
      "gift_0001_20    10.0   2.000000   2.828427   1.0   1.00   1.0   1.0    10.0\n",
      "gift_0001_30     8.0   4.625000  10.253048   1.0   1.00   1.0   1.0    30.0\n",
      "\n",
      "[3258 rows x 8 columns]\n",
      "\n",
      "Outliers in Sales Volumes by Country:\n",
      "                         count       mean         std      min    25%   50%  \\\n",
      "Country                                                                       \n",
      "Australia               1259.0  66.444003   97.686932   -120.0   6.00  24.0   \n",
      "Austria                  401.0  12.037406   21.745485    -48.0   6.00   9.0   \n",
      "Bahrain                   19.0  13.684211   30.016759    -54.0   5.00   6.0   \n",
      "Belgium                 2069.0  11.189947   13.601441    -12.0   4.00  10.0   \n",
      "Canada                   151.0  18.298013   46.682587      1.0   6.00  12.0   \n",
      "Channel Islands          758.0  12.505277   22.570877     -2.0   4.00  10.0   \n",
      "Cyprus                   622.0  10.155949   23.263590    -33.0   2.00   5.0   \n",
      "Czech Republic            30.0  19.733333   22.813990    -24.0  12.00  24.0   \n",
      "Denmark                  389.0  21.048843   27.402502    -25.0  12.00  12.0   \n",
      "EIRE                    8196.0  17.403245   40.368435   -288.0   4.00  10.0   \n",
      "Finland                  695.0  15.346763   21.001421    -27.0   6.00  10.0   \n",
      "France                  8557.0  12.911067   21.425031   -250.0   5.00  10.0   \n",
      "Germany                 9495.0  12.369458   17.865719   -288.0   5.00  10.0   \n",
      "Greece                   146.0  10.657534    7.724067     -1.0   5.25  10.0   \n",
      "Hong Kong                288.0  16.559028   16.936343     -1.0   6.00  11.0   \n",
      "Iceland                  182.0  13.505495   18.856172      2.0   6.00  12.0   \n",
      "Israel                   297.0  14.656566   16.026474    -32.0   4.00  11.0   \n",
      "Italy                    803.0   9.961395   13.579809    -12.0   4.00   6.0   \n",
      "Japan                    358.0  70.441341  177.191079   -624.0   4.00  36.0   \n",
      "Lebanon                   45.0   8.577778    4.314294      2.0   6.00   8.0   \n",
      "Lithuania                 35.0  18.628571   10.137542      6.0  12.00  16.0   \n",
      "Malta                    127.0   7.433071    8.069726     -4.0   3.00   6.0   \n",
      "Netherlands             2371.0  84.406580  111.369151   -480.0  16.00  72.0   \n",
      "Norway                  1086.0  17.722836   22.644876    -12.0   6.00  12.0   \n",
      "Poland                   341.0  10.712610   10.174628     -6.0   4.00  10.0   \n",
      "Portugal                1519.0  10.651745   11.823938    -12.0   3.00   8.0   \n",
      "Saudi Arabia              10.0   7.500000    5.720334     -5.0   6.00   9.0   \n",
      "Singapore                229.0  22.855895   27.742886     -1.0   8.00  12.0   \n",
      "Spain                   2533.0  10.589814   24.130396   -288.0   3.00   6.0   \n",
      "Sweden                   462.0  77.136364  128.891540   -240.0   8.00  20.0   \n",
      "Switzerland             2002.0  15.147353   18.956901   -120.0   6.00  12.0   \n",
      "USA                      291.0   3.553265   16.450545    -36.0 -10.00   5.0   \n",
      "United Arab Emirates      68.0  14.441176   12.474909      1.0   6.00  12.0   \n",
      "United Kingdom        495478.0   8.605486  227.588756 -80995.0   1.00   3.0   \n",
      "Unspecified              446.0   7.399103    8.765735      1.0   1.00   3.0   \n",
      "\n",
      "                        75%      max  \n",
      "Country                               \n",
      "Australia              96.0   1152.0  \n",
      "Austria                12.0    288.0  \n",
      "Bahrain                10.0     96.0  \n",
      "Belgium                12.0    272.0  \n",
      "Canada                 20.0    504.0  \n",
      "Channel Islands        12.0    407.0  \n",
      "Cyprus                 12.0    288.0  \n",
      "Czech Republic         24.0     72.0  \n",
      "Denmark                24.0    256.0  \n",
      "EIRE                   12.0   1440.0  \n",
      "Finland                12.0    144.0  \n",
      "France                 12.0    912.0  \n",
      "Germany                12.0    600.0  \n",
      "Greece                 12.0     48.0  \n",
      "Hong Kong              24.0    144.0  \n",
      "Iceland                12.0    240.0  \n",
      "Israel                 24.0    100.0  \n",
      "Italy                  12.0    200.0  \n",
      "Japan                  72.0   2040.0  \n",
      "Lebanon                12.0     24.0  \n",
      "Lithuania              24.0     48.0  \n",
      "Malta                  12.0     48.0  \n",
      "Netherlands           100.0   2400.0  \n",
      "Norway                 24.0    240.0  \n",
      "Poland                 12.0     72.0  \n",
      "Portugal               12.0    120.0  \n",
      "Saudi Arabia           12.0     12.0  \n",
      "Singapore              24.0    288.0  \n",
      "Spain                  12.0    360.0  \n",
      "Sweden                 96.0    768.0  \n",
      "Switzerland            20.0    288.0  \n",
      "USA                    12.0     72.0  \n",
      "United Arab Emirates   12.0     72.0  \n",
      "United Kingdom         10.0  80995.0  \n",
      "Unspecified            12.0     48.0  \n"
     ]
    }
   ],
   "source": [
    "# Calculate the interquartile range (IQR) for Sales Volumes by StockCode\n",
    "Q1_stockcode = summary_by_stockcode['25%']\n",
    "Q3_stockcode = summary_by_stockcode['75%']\n",
    "IQR_stockcode = Q3_stockcode - Q1_stockcode\n",
    "\n",
    "# Determine lower and upper bounds for outliers by StockCode\n",
    "lower_bound_stockcode = Q1_stockcode - 1.5 * IQR_stockcode\n",
    "upper_bound_stockcode = Q3_stockcode + 1.5 * IQR_stockcode\n",
    "\n",
    "# Identify outliers by StockCode\n",
    "outliers_stockcode = summary_by_stockcode[(summary_by_stockcode['min'] < lower_bound_stockcode) | (summary_by_stockcode['max'] > upper_bound_stockcode)]\n",
    "\n",
    "# Calculate the interquartile range (IQR) for Sales Volumes by Country\n",
    "Q1_country = summary_by_country['25%']\n",
    "Q3_country = summary_by_country['75%']\n",
    "IQR_country = Q3_country - Q1_country\n",
    "\n",
    "# Determine lower and upper bounds for outliers by Country\n",
    "lower_bound_country = Q1_country - 1.5 * IQR_country\n",
    "upper_bound_country = Q3_country + 1.5 * IQR_country\n",
    "\n",
    "# Identify outliers by Country\n",
    "outliers_country = summary_by_country[(summary_by_country['min'] < lower_bound_country) | (summary_by_country['max'] > upper_bound_country)]\n",
    "\n",
    "# Display outliers\n",
    "print(\"Outliers in Sales Volumes by StockCode:\")\n",
    "print(outliers_stockcode)\n",
    "\n",
    "print(\"\\nOutliers in Sales Volumes by Country:\")\n",
    "print(outliers_country)\n"
   ]
  },
  {
   "cell_type": "code",
   "execution_count": 49,
   "id": "8768f515",
   "metadata": {},
   "outputs": [
    {
     "name": "stdout",
     "output_type": "stream",
     "text": [
      "Indices of outliers identified using Z-score: (array([], dtype=int64),)\n"
     ]
    }
   ],
   "source": [
    "import numpy as np\n",
    "\n",
    "# Define your sales volume data (replace this with your actual data)\n",
    "sales_volume = np.array([10, 20, 30, 40, 50, 1000])\n",
    "\n",
    "# Define a function to identify outliers using Z-score\n",
    "def detect_outliers_z_score(data, threshold=3):\n",
    "    z_scores = np.abs((data - np.mean(data)) / np.std(data))\n",
    "    return np.where(z_scores > threshold)\n",
    "\n",
    "# Apply the Z-score method to your sales volume data\n",
    "outliers_z_score = detect_outliers_z_score(sales_volume)\n",
    "\n",
    "# Print the indices of outliers identified using Z-score\n",
    "print(\"Indices of outliers identified using Z-score:\", outliers_z_score)\n",
    "\n",
    "\n"
   ]
  },
  {
   "cell_type": "code",
   "execution_count": 51,
   "id": "23392109",
   "metadata": {},
   "outputs": [
    {
     "ename": "NameError",
     "evalue": "name 'sales_volume_data' is not defined",
     "output_type": "error",
     "traceback": [
      "\u001b[1;31m---------------------------------------------------------------------------\u001b[0m",
      "\u001b[1;31mNameError\u001b[0m                                 Traceback (most recent call last)",
      "Cell \u001b[1;32mIn[51], line 12\u001b[0m\n\u001b[0;32m      9\u001b[0m     \u001b[38;5;28;01mreturn\u001b[39;00m outliers_indices\n\u001b[0;32m     11\u001b[0m \u001b[38;5;66;03m# Apply the IQR method to your sales volume data\u001b[39;00m\n\u001b[1;32m---> 12\u001b[0m outliers_iqr \u001b[38;5;241m=\u001b[39m detect_outliers_iqr(sales_volume_data)\n\u001b[0;32m     14\u001b[0m \u001b[38;5;66;03m# Print the indices of outliers identified using the IQR method\u001b[39;00m\n\u001b[0;32m     15\u001b[0m \u001b[38;5;28mprint\u001b[39m(\u001b[38;5;124m\"\u001b[39m\u001b[38;5;124mIndices of outliers identified using the IQR method:\u001b[39m\u001b[38;5;124m\"\u001b[39m, outliers_iqr)\n",
      "\u001b[1;31mNameError\u001b[0m: name 'sales_volume_data' is not defined"
     ]
    }
   ],
   "source": [
    "# Define a function to identify outliers using the IQR method\n",
    "def detect_outliers_iqr(data):\n",
    "    Q1 = np.percentile(data, 25)\n",
    "    Q3 = np.percentile(data, 75)\n",
    "    IQR = Q3 - Q1\n",
    "    lower_bound = Q1 - 1.5 * IQR\n",
    "    upper_bound = Q3 + 1.5 * IQR\n",
    "    outliers_indices = np.where((data < lower_bound) | (data > upper_bound))\n",
    "    return outliers_indices\n",
    "\n",
    "# Apply the IQR method to your sales volume data\n",
    "outliers_iqr = detect_outliers_iqr(sales_volume_data)\n",
    "\n",
    "# Print the indices of outliers identified using the IQR method\n",
    "print(\"Indices of outliers identified using the IQR method:\", outliers_iqr)\n"
   ]
  },
  {
   "cell_type": "code",
   "execution_count": null,
   "id": "d26fedef",
   "metadata": {},
   "outputs": [],
   "source": []
  }
 ],
 "metadata": {
  "kernelspec": {
   "display_name": "Python 3 (ipykernel)",
   "language": "python",
   "name": "python3"
  },
  "language_info": {
   "codemirror_mode": {
    "name": "ipython",
    "version": 3
   },
   "file_extension": ".py",
   "mimetype": "text/x-python",
   "name": "python",
   "nbconvert_exporter": "python",
   "pygments_lexer": "ipython3",
   "version": "3.11.5"
  }
 },
 "nbformat": 4,
 "nbformat_minor": 5
}
